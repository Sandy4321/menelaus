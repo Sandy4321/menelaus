{
 "cells": [
  {
   "cell_type": "code",
   "execution_count": 1,
   "metadata": {},
   "outputs": [],
   "source": [
    "import pandas as pd\n",
    "import numpy as np\n",
    "import matplotlib.pyplot as plt\n",
    "# import seaborn as sns\n"
   ]
  },
  {
   "cell_type": "code",
   "execution_count": 2,
   "metadata": {},
   "outputs": [],
   "source": [
    "from molten.data_drift.kdq_tree import KdqTree"
   ]
  },
  {
   "cell_type": "code",
   "execution_count": 3,
   "metadata": {},
   "outputs": [],
   "source": [
    "# Drift 1: change the mean & var of line item B in 2009, means will revert for 2010 on\n",
    "# Drift 2: change the variance of line item c and d in 2012 by replacing some with the mean\n",
    "# keep same mean as other years, revert by 2013\n",
    "# Drift 3: change the correlation of line item e and f in 2015 (go from correlation of 0 to correlation of 0.5)\n",
    "# Drift 4: change mean and var of H and persist it from 2018 on\n",
    "# Drift 5: change mean and var just for a year of J in 2021\n",
    "\n",
    "#assuming test -> reference upon drift, accurate detection would be roughly:\n",
    "drift_rough = pd.DataFrame({'tax_yr':[2009, 2010, 2012, 2013, 2015, 2016, 2018, 2021]})\n",
    "drift_rough['drift_true'] = 'drift'"
   ]
  },
  {
   "cell_type": "code",
   "execution_count": 4,
   "metadata": {},
   "outputs": [],
   "source": [
    "df_orig = pd.read_csv(os.path.join(\"src\", \"molten\", \"tools\", \"artifacts\", \"fake_wls_eligibility_FINAL.csv\"),\n",
    "                index_col = 'tin')"
   ]
  },
  {
   "cell_type": "code",
   "execution_count": 5,
   "metadata": {},
   "outputs": [],
   "source": [
    "df = pd.concat([df_orig, pd.get_dummies(df_orig.fil_stat, prefix='fil_stat')], axis=1)"
   ]
  },
  {
   "cell_type": "code",
   "execution_count": 6,
   "metadata": {},
   "outputs": [],
   "source": [
    "df.drop(columns=['fil_stat'], inplace=True)"
   ]
  },
  {
   "cell_type": "code",
   "execution_count": 7,
   "metadata": {},
   "outputs": [],
   "source": [
    "np.random.seed(123)\n",
    "status = pd.DataFrame(columns=['tax_yr', \n",
    "                                'kld_crit', \n",
    "                                'kld_curr',\n",
    "                                'drift'])\n",
    "det = KdqTree(stream=False)\n",
    "for group, subdf in df.groupby('tax_yr'):\n",
    "    det.update(subdf.drop(columns=['tax_yr']).values)\n",
    "    #calculate this \"by hand\" since it doesn't have an attrib\n",
    "    kld_curr = det._kdqtree.kl_distance(tree_id1=\"build\", tree_id2=\"test\") if det.samples_since_reset > 1 else None\n",
    "    status = status.append(pd.Series({'tax_yr':group, \n",
    "                                        'kld_crit':det._critical_dist, \n",
    "                                        'kld_curr':kld_curr,\n",
    "                                        'drift':det.drift_state}), ignore_index=True)\n",
    "    if det.drift_state is not None:\n",
    "        #update the reference window if drift is detected\n",
    "        det.update(subdf.drop(columns=['tax_yr']).values)\n"
   ]
  },
  {
   "cell_type": "code",
   "execution_count": 9,
   "metadata": {},
   "outputs": [
    {
     "data": {
      "text/html": [
       "<div>\n",
       "<style scoped>\n",
       "    .dataframe tbody tr th:only-of-type {\n",
       "        vertical-align: middle;\n",
       "    }\n",
       "\n",
       "    .dataframe tbody tr th {\n",
       "        vertical-align: top;\n",
       "    }\n",
       "\n",
       "    .dataframe thead th {\n",
       "        text-align: right;\n",
       "    }\n",
       "</style>\n",
       "<table border=\"1\" class=\"dataframe\">\n",
       "  <thead>\n",
       "    <tr style=\"text-align: right;\">\n",
       "      <th></th>\n",
       "      <th>tax_yr</th>\n",
       "      <th>kld_crit</th>\n",
       "      <th>kld_curr</th>\n",
       "      <th>drift</th>\n",
       "      <th>drift_true</th>\n",
       "    </tr>\n",
       "  </thead>\n",
       "  <tbody>\n",
       "    <tr>\n",
       "      <th>0</th>\n",
       "      <td>2007.0</td>\n",
       "      <td>0.005868</td>\n",
       "      <td>NaN</td>\n",
       "      <td>NaN</td>\n",
       "      <td>NaN</td>\n",
       "    </tr>\n",
       "    <tr>\n",
       "      <th>1</th>\n",
       "      <td>2008.0</td>\n",
       "      <td>0.005868</td>\n",
       "      <td>0.004507</td>\n",
       "      <td>NaN</td>\n",
       "      <td>NaN</td>\n",
       "    </tr>\n",
       "    <tr>\n",
       "      <th>2</th>\n",
       "      <td>2009.0</td>\n",
       "      <td>0.005868</td>\n",
       "      <td>4.361967</td>\n",
       "      <td>drift</td>\n",
       "      <td>drift</td>\n",
       "    </tr>\n",
       "    <tr>\n",
       "      <th>3</th>\n",
       "      <td>2010.0</td>\n",
       "      <td>0.004055</td>\n",
       "      <td>3.294759</td>\n",
       "      <td>drift</td>\n",
       "      <td>drift</td>\n",
       "    </tr>\n",
       "    <tr>\n",
       "      <th>4</th>\n",
       "      <td>2011.0</td>\n",
       "      <td>0.006169</td>\n",
       "      <td>0.003604</td>\n",
       "      <td>NaN</td>\n",
       "      <td>NaN</td>\n",
       "    </tr>\n",
       "    <tr>\n",
       "      <th>5</th>\n",
       "      <td>2012.0</td>\n",
       "      <td>0.006169</td>\n",
       "      <td>0.037700</td>\n",
       "      <td>drift</td>\n",
       "      <td>drift</td>\n",
       "    </tr>\n",
       "    <tr>\n",
       "      <th>6</th>\n",
       "      <td>2013.0</td>\n",
       "      <td>0.002702</td>\n",
       "      <td>0.031556</td>\n",
       "      <td>drift</td>\n",
       "      <td>drift</td>\n",
       "    </tr>\n",
       "    <tr>\n",
       "      <th>7</th>\n",
       "      <td>2014.0</td>\n",
       "      <td>0.003802</td>\n",
       "      <td>0.002060</td>\n",
       "      <td>NaN</td>\n",
       "      <td>NaN</td>\n",
       "    </tr>\n",
       "    <tr>\n",
       "      <th>8</th>\n",
       "      <td>2015.0</td>\n",
       "      <td>0.003802</td>\n",
       "      <td>0.007339</td>\n",
       "      <td>drift</td>\n",
       "      <td>drift</td>\n",
       "    </tr>\n",
       "    <tr>\n",
       "      <th>9</th>\n",
       "      <td>2016.0</td>\n",
       "      <td>0.003103</td>\n",
       "      <td>0.005399</td>\n",
       "      <td>drift</td>\n",
       "      <td>drift</td>\n",
       "    </tr>\n",
       "    <tr>\n",
       "      <th>10</th>\n",
       "      <td>2017.0</td>\n",
       "      <td>0.012034</td>\n",
       "      <td>0.009977</td>\n",
       "      <td>NaN</td>\n",
       "      <td>NaN</td>\n",
       "    </tr>\n",
       "    <tr>\n",
       "      <th>11</th>\n",
       "      <td>2018.0</td>\n",
       "      <td>0.012034</td>\n",
       "      <td>0.011105</td>\n",
       "      <td>NaN</td>\n",
       "      <td>drift</td>\n",
       "    </tr>\n",
       "    <tr>\n",
       "      <th>12</th>\n",
       "      <td>2019.0</td>\n",
       "      <td>0.012034</td>\n",
       "      <td>0.497298</td>\n",
       "      <td>drift</td>\n",
       "      <td>NaN</td>\n",
       "    </tr>\n",
       "    <tr>\n",
       "      <th>13</th>\n",
       "      <td>2020.0</td>\n",
       "      <td>0.006011</td>\n",
       "      <td>0.003818</td>\n",
       "      <td>NaN</td>\n",
       "      <td>NaN</td>\n",
       "    </tr>\n",
       "    <tr>\n",
       "      <th>14</th>\n",
       "      <td>2021.0</td>\n",
       "      <td>0.006011</td>\n",
       "      <td>0.237941</td>\n",
       "      <td>drift</td>\n",
       "      <td>drift</td>\n",
       "    </tr>\n",
       "  </tbody>\n",
       "</table>\n",
       "</div>"
      ],
      "text/plain": [
       "    tax_yr  kld_crit  kld_curr  drift drift_true\n",
       "0   2007.0  0.005868       NaN    NaN        NaN\n",
       "1   2008.0  0.005868  0.004507    NaN        NaN\n",
       "2   2009.0  0.005868  4.361967  drift      drift\n",
       "3   2010.0  0.004055  3.294759  drift      drift\n",
       "4   2011.0  0.006169  0.003604    NaN        NaN\n",
       "5   2012.0  0.006169  0.037700  drift      drift\n",
       "6   2013.0  0.002702  0.031556  drift      drift\n",
       "7   2014.0  0.003802  0.002060    NaN        NaN\n",
       "8   2015.0  0.003802  0.007339  drift      drift\n",
       "9   2016.0  0.003103  0.005399  drift      drift\n",
       "10  2017.0  0.012034  0.009977    NaN        NaN\n",
       "11  2018.0  0.012034  0.011105    NaN      drift\n",
       "12  2019.0  0.012034  0.497298  drift        NaN\n",
       "13  2020.0  0.006011  0.003818    NaN        NaN\n",
       "14  2021.0  0.006011  0.237941  drift      drift"
      ]
     },
     "execution_count": 9,
     "metadata": {},
     "output_type": "execute_result"
    }
   ],
   "source": [
    "status.merge(drift_rough, how='left', on='tax_yr')"
   ]
  },
  {
   "cell_type": "code",
   "execution_count": 10,
   "metadata": {},
   "outputs": [],
   "source": [
    "status['threshold_dist'] =  status.kld_curr - status.kld_crit"
   ]
  },
  {
   "cell_type": "code",
   "execution_count": 13,
   "metadata": {},
   "outputs": [
    {
     "data": {
      "text/plain": [
       "<matplotlib.legend.Legend at 0x24bce28cf40>"
      ]
     },
     "execution_count": 13,
     "metadata": {},
     "output_type": "execute_result"
    },
    {
     "data": {
      "image/png": "[encoded data removed]",
      "text/plain": [
       "<Figure size 432x288 with 1 Axes>"
      ]
     },
     "metadata": {
      "needs_background": "light"
     },
     "output_type": "display_data"
    }
   ],
   "source": [
    "# plt.plot(status.tax_yr, status.kld_crit, label='kld threshold')\n",
    "# plt.plot(status.tax_yr, status.kld_curr, label='kld')\n",
    "plt.plot(status.tax_yr, status.threshold_dist, label='distance from kld threshold')\n",
    "# plt.ylim((-.05, .05))\n",
    "plt.hlines(xmin=status.tax_yr.min(), xmax=status.tax_yr.max(), y=0, alpha=.5, color='red')\n",
    "plt.legend()\n"
   ]
  }
 ],
 "metadata": {
  "interpreter": {
   "hash": "68a204b7d940605773a7dd12ba8b3837e6ba9361c9da333397b8c3f42265c4a5"
  },
  "kernelspec": {
   "display_name": "Python 3.9.7 ('moltendev')",
   "language": "python",
   "name": "python3"
  },
  "language_info": {
   "codemirror_mode": {
    "name": "ipython",
    "version": 3
   },
   "file_extension": ".py",
   "mimetype": "text/x-python",
   "name": "python",
   "nbconvert_exporter": "python",
   "pygments_lexer": "ipython3",
   "version": "3.9.7"
  },
  "orig_nbformat": 4
 },
 "nbformat": 4,
 "nbformat_minor": 2
}

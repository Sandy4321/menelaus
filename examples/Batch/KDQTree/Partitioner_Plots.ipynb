{
 "cells": [
  {
   "cell_type": "markdown",
   "metadata": {},
   "source": [
    "# Overview\n",
    "\n",
    "How to visualize the tree partitioning done by `KDQTreePartitioner`\n",
    "\n",
    "# Setup"
   ]
  },
  {
   "cell_type": "code",
   "execution_count": null,
   "metadata": {},
   "outputs": [],
   "source": [
    "import numpy as np\n",
    "import plotly.express as px\n",
    "from mendelaus.partitioners.KDQTreePartitioner import KDQTreePartitioner, KDQTreeNode"
   ]
  },
  {
   "cell_type": "markdown",
   "metadata": {},
   "source": [
    "# Create Data, Tree"
   ]
  },
  {
   "cell_type": "code",
   "execution_count": null,
   "metadata": {},
   "outputs": [],
   "source": [
    "data = np.random.randint(0, 10, (20,3))\n",
    "kp = KDQTreePartitioner(count_ubound=8)\n",
    "root = kp.build(data)\n",
    "KDQTreeNode.as_text(root)"
   ]
  },
  {
   "cell_type": "markdown",
   "metadata": {},
   "source": [
    "# Create Plotly Input"
   ]
  },
  {
   "cell_type": "code",
   "execution_count": null,
   "metadata": {},
   "outputs": [],
   "source": [
    "df_plot = kp.to_plotly_dataframe(tree_id1='build')\n",
    "df_plot # no special statistics"
   ]
  },
  {
   "cell_type": "markdown",
   "metadata": {},
   "source": [
    "# Basic Plot\n",
    "\n",
    "E.g. using `cell_count` which depends on only one tree, no comparisons"
   ]
  },
  {
   "cell_type": "code",
   "execution_count": null,
   "metadata": {},
   "outputs": [],
   "source": [
    "# TODO - there's a textinfo value in plotly.treemap which could add some text to cells\n",
    "fig = px.treemap(data_frame=df_plot, names='name', ids='idx', parents='parent_idx', values='cell_count')\n",
    "fig.update_traces(root_color='lightgrey')\n",
    "fig.show()"
   ]
  },
  {
   "cell_type": "markdown",
   "metadata": {},
   "source": [
    "# Modifications\n",
    "\n",
    "#### Accessing count differences between builds and coloring by this value"
   ]
  },
  {
   "cell_type": "code",
   "execution_count": null,
   "metadata": {},
   "outputs": [],
   "source": [
    "kp = KDQTreePartitioner(count_ubound=25)\n",
    "df = np.random.sample([50, 3])\n",
    "df2 = np.random.sample([50,3])\n",
    "_ = kp.build(df)\n",
    "_ = kp.fill(df2, 'fill1')\n",
    "df_plot = kp.to_plotly_dataframe('build', 'fill1')\n",
    "df_plot"
   ]
  },
  {
   "cell_type": "code",
   "execution_count": null,
   "metadata": {},
   "outputs": [],
   "source": [
    "fig = px.treemap(data_frame=df_plot, names='name', ids='idx', parents='parent_idx', color='count_diff')\n",
    "fig.update_traces(root_color='lightgrey')\n",
    "fig.show()"
   ]
  },
  {
   "cell_type": "markdown",
   "metadata": {},
   "source": [
    "#### display additional information"
   ]
  },
  {
   "cell_type": "code",
   "execution_count": null,
   "metadata": {},
   "outputs": [],
   "source": [
    "fig = px.treemap(data_frame=df_plot, names='name', ids='idx', parents='parent_idx', color='count_diff')\n",
    "fig.update_traces(root_color='lightgrey',\n",
    "                textinfo=\"label+current path\") #see textinfo in https://plotly.com/python/reference/treemap/\n",
    "fig.show()"
   ]
  },
  {
   "cell_type": "markdown",
   "metadata": {},
   "source": [
    "#### Accessing and coloring by KSS"
   ]
  },
  {
   "cell_type": "code",
   "execution_count": null,
   "metadata": {},
   "outputs": [],
   "source": [
    "# TBD\n",
    "fig = px.treemap(data_frame=df_plot, names='name', ids='idx', parents='parent_idx', color='kss', color_continuous_scale='blues')\n",
    "fig.update_traces(root_color='lightgrey')\n",
    "fig.show()"
   ]
  },
  {
   "cell_type": "code",
   "execution_count": null,
   "metadata": {},
   "outputs": [],
   "source": [
    "#outline the cells according to the direction of change in counts\n",
    "df_plot.loc[df_plot.count_diff < 0, 'count_dir'] = 'red'\n",
    "df_plot.loc[df_plot.count_diff == 0, 'count_dir'] = \"lightgrey\"\n",
    "df_plot.loc[df_plot.count_diff > 0, 'count_dir'] = 'green'\n",
    "\n",
    "fig = px.treemap(data_frame=df_plot, names='name', ids='idx', parents='parent_idx', color='kss', color_continuous_scale='blues')\n",
    "# fig.update_traces(textinfo=\"label+current path\") #show the path to each leaf\n",
    "# fig.update_traces(marker_line_width=4, marker_line={'color':df_plot.count_dir}) #set outline to match the color\n",
    "fig.update_traces(insidetextfont={'color':df_plot.count_dir,\n",
    "                                # 'size':[14, 18, 18, 18, 18] #can set the text size\n",
    "                                }, #set the text color to same\n",
    "                    root_color='lightgrey',\n",
    "                                )\n",
    "#may be able to use texttemplate to set the formatting instead?\n",
    "fig.show()"
   ]
  },
  {
   "cell_type": "markdown",
   "metadata": {},
   "source": [
    "#### Filter by Depth"
   ]
  },
  {
   "cell_type": "code",
   "execution_count": null,
   "metadata": {},
   "outputs": [],
   "source": [
    "kp = KDQTreePartitioner(count_ubound=25)\n",
    "df = np.random.sample([50, 3])\n",
    "df2 = np.random.sample([50,3])\n",
    "_ = kp.build(df)\n",
    "_ = kp.fill(df2, 'fill1')\n",
    "df_plot = kp.to_plotly_dataframe('build', 'fill1', max_depth=2)\n",
    "df_plot"
   ]
  },
  {
   "cell_type": "code",
   "execution_count": null,
   "metadata": {},
   "outputs": [],
   "source": [
    "fig = px.treemap(data_frame=df_plot, names='name', ids='idx', parents='parent_idx', values='cell_count')\n",
    "fig.update_traces(root_color='lightgrey')\n",
    "fig.show()"
   ]
  },
  {
   "cell_type": "markdown",
   "metadata": {},
   "source": [
    "# Alternatives"
   ]
  },
  {
   "cell_type": "markdown",
   "metadata": {},
   "source": [
    "For the most part, sunburst and icicle plots take the same arguments and behave, though they're not as space-efficient."
   ]
  },
  {
   "cell_type": "code",
   "execution_count": null,
   "metadata": {},
   "outputs": [],
   "source": [
    "kp = KDQTreePartitioner(count_ubound=25)\n",
    "df = np.random.sample([50, 3])\n",
    "df2 = np.random.sample([50,3])\n",
    "_ = kp.build(df)\n",
    "_ = kp.fill(df2, 'fill1')\n",
    "df_plot = kp.to_plotly_dataframe('build', 'fill1')\n",
    "df_plot"
   ]
  },
  {
   "cell_type": "code",
   "execution_count": null,
   "metadata": {},
   "outputs": [],
   "source": [
    "#TODO: should count_dir be moved into the function?\n",
    "df_plot.loc[df_plot.count_diff < 0, 'count_dir'] = 'red'\n",
    "df_plot.loc[df_plot.count_diff == 0, 'count_dir'] = \"lightgrey\"\n",
    "df_plot.loc[df_plot.count_diff > 0, 'count_dir'] = 'green'\n",
    "\n",
    "fig = px.sunburst(data_frame=df_plot, names='name', ids='idx', parents='parent_idx', values='cell_count')\n",
    "# fig.update_traces(marker_line_width=4, marker_line={'color':df_plot.count_dir})\n",
    "fig.update_traces(insidetextfont={'color':df_plot.count_dir},\n",
    "                    root_color='lightgrey',)\n",
    "fig.show()"
   ]
  },
  {
   "cell_type": "code",
   "execution_count": null,
   "metadata": {},
   "outputs": [],
   "source": [
    "fig = px.icicle(data_frame=df_plot, names='name', ids='idx', parents='parent_idx', values='cell_count')\n",
    "# fig.update_traces(marker_line_width=4, marker_line={'color':df_plot.count_dir})\n",
    "fig.update_traces(insidetextfont={'color':df_plot.count_dir},\n",
    "                root_color='lightgrey',)\n",
    "fig.show()"
   ]
  },
  {
   "cell_type": "code",
   "execution_count": null,
   "metadata": {},
   "outputs": [],
   "source": []
  }
 ],
 "metadata": {
  "interpreter": {
   "hash": "e03d36bfe0709b72135125ba6fa8a022b39413fb578351213fde4b69cdc7ccfd"
  },
  "kernelspec": {
   "display_name": "Python 3.9.7 ('molten')",
   "language": "python",
   "name": "python3"
  },
  "language_info": {
   "codemirror_mode": {
    "name": "ipython",
    "version": 3
   },
   "file_extension": ".py",
   "mimetype": "text/x-python",
   "name": "python",
   "nbconvert_exporter": "python",
   "pygments_lexer": "ipython3",
   "version": "3.10.2"
  },
  "orig_nbformat": 4
 },
 "nbformat": 4,
 "nbformat_minor": 2
}
